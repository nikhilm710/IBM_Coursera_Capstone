{
    "nbformat_minor": 1, 
    "cells": [
        {
            "source": "# Location Provider for stay in Toronto", 
            "cell_type": "markdown", 
            "metadata": {
                "collapsed": true
            }
        }, 
        {
            "source": "## Problem Description", 
            "cell_type": "markdown", 
            "metadata": {}
        }, 
        {
            "source": "\n\nMost of the people from various loactions either from different city or abroad are vising Toronto for stay for many purposes. The purpose may be for job or tourist visit. As per wiki Toronto is very highly populated and people don't have much time to do research the location to get stay accoriding to their preferences. Due to limited time and expenses to research the location they unwillingly found the stay in their unpreferred locations where they don't find venues of their choices nearby.\n\nTo work on this problem we are taking the leverage of Data science and machine learning to help people find the locations of stay based on their preferences, near by venues of their choice.\n\nBy using the locations and their prefreed venue, using machine learning models and datascience we are helping new visitors to find the stay of their choice in very short and with very little or no expenses.\n\nThe target audieance will be any one who visits Toronto for any purpose.\n", 
            "cell_type": "markdown", 
            "metadata": {}
        }, 
        {
            "source": "# Data collection", 
            "cell_type": "markdown", 
            "metadata": {}
        }, 
        {
            "source": "\n\nThe following data will be used for data exploration and data analysis:\n\n1) Toronto Neighborhood Data - 'https://en.wikipedia.org/wiki/List_of_postal_codes_of_Canada'\n\n2) Foursquare Location Data (Venues [Restaurants, Community Centers], TOP tips, Favorites, User Experience, etc) will be used to cluster, segment, target, and position to craft recommendations for the new visitors.\n\nFirst, Toronto borough neighborhood addresses are converted into their equivalent latitude and longitude using the values retrieved from Toronto geodata sheet using Pandas library in Python. Then, the Foursquare API is used to explore neighborhoods in Toronto borough. Using the explore function, the most common venue categories within a radius of 500 meters is extracted for each Toronto neighborhood and the number of returned venues by Foursquare API is limited to 100.\n\nNow, the venue categories feature is used to group the neighborhoods into clusters. The k-means clustering algorithm is employed to perform this task. Finally, the Folium library is utilized to visualize the neighborhoods in Toronto borough and their emerging clusters.\n", 
            "cell_type": "markdown", 
            "metadata": {}
        }, 
        {
            "source": "## Methodology section", 
            "cell_type": "markdown", 
            "metadata": {}
        }, 
        {
            "source": "This section presents the datasets used for this study and details of the methods used to perform our analysis. The data for this project is obtained from wiki  'https://en.wikipedia.org/wiki/List_of_postal_codes_of_Canada' and geo location data from csv 'Geospatial_Coordinates.csv '\nand the Foursquare location data to solve the business problem discussed above. First, Borough contaning 'Toronto' neighborhood addresses are converted into their equivalent latitude and longitude values retrieved from Toronto geodata using Pandas library in Python. ", 
            "cell_type": "markdown", 
            "metadata": {}
        }, 
        {
            "source": "Created the Visualization of the 70 neighborhoods in Toronto borough using follium", 
            "cell_type": "markdown", 
            "metadata": {}
        }, 
        {
            "source": " Foursquare API is used to explore neighborhoods in Toronto borough. Using the explore function, the most common venue categories within a radius of 500 meters is extracted for each Toronto neighborhood and the number of returned venues by Foursquare API is limited to 100.", 
            "cell_type": "markdown", 
            "metadata": {}
        }, 
        {
            "source": "Now, the venue categories feature is used to group the neighborhoods into clusters. The k-means clustering algorithm is employed to perform this task. Finally, the Folium library is utilized to visualize the neighborhoods in Toronto borough and their emerging clusters.", 
            "cell_type": "markdown", 
            "metadata": {}
        }, 
        {
            "source": "## Results", 
            "cell_type": "markdown", 
            "metadata": {}
        }, 
        {
            "source": "5 cluster is created consisting of top 10 most common venue represented in different colors", 
            "cell_type": "markdown", 
            "metadata": {}
        }, 
        {
            "source": "## Discussion section", 
            "cell_type": "markdown", 
            "metadata": {}
        }, 
        {
            "source": "To find the appropriate locations for the new visitors to Toronto 5 clusters are created. Each cluster consists of the top 10 venues. So based on their prefred choice of venue we can recommend the neighbourhood of Toronto to stay", 
            "cell_type": "markdown", 
            "metadata": {}
        }, 
        {
            "source": "## Conclusion section", 
            "cell_type": "markdown", 
            "metadata": {}
        }, 
        {
            "source": "This report explores borough containing 'Toronto' neighborhoods using the Foursquare API and utilizes K-means machine learning algorithm to group neighborhoods into clusters. These clusters are based on the 10 most common venue categories feature extracted from Foursquare location data. This information can now be used in making selection decision for a stay in each neighborhood by the vistitors to Toronto. For all Neighborhood in each cluster venues are sorted in 10 most common venue. If there prefreed venue is Coffee Shop,Bakery,Caf\u00e9,Park,Mexican Restaurant,Breakfast Spot,Restaurant,Pub,Theater,Yoga Studio with coffee shop as most priortized venue then they can prefer to stay in Downtown Toronto. ", 
            "cell_type": "markdown", 
            "metadata": {}
        }, 
        {
            "execution_count": null, 
            "cell_type": "code", 
            "metadata": {}, 
            "outputs": [], 
            "source": ""
        }
    ], 
    "metadata": {
        "kernelspec": {
            "display_name": "Python 3.5", 
            "name": "python3", 
            "language": "python"
        }, 
        "language_info": {
            "mimetype": "text/x-python", 
            "nbconvert_exporter": "python", 
            "version": "3.5.5", 
            "name": "python", 
            "file_extension": ".py", 
            "pygments_lexer": "ipython3", 
            "codemirror_mode": {
                "version": 3, 
                "name": "ipython"
            }
        }
    }, 
    "nbformat": 4
}